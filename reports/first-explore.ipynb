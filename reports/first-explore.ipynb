{
 "cells": [
  {
   "cell_type": "code",
   "execution_count": 4,
   "metadata": {
    "collapsed": true
   },
   "outputs": [],
   "source": [
    "import pandas as pd"
   ]
  },
  {
   "cell_type": "code",
   "execution_count": 6,
   "outputs": [
    {
     "name": "stdout",
     "output_type": "stream",
     "text": [
      "<class 'pandas.core.frame.DataFrame'>\n",
      "RangeIndex: 1242 entries, 0 to 1241\n",
      "Data columns (total 26 columns):\n",
      " #   Column      Non-Null Count  Dtype  \n",
      "---  ------      --------------  -----  \n",
      " 0   Unnamed: 0  1242 non-null   int64  \n",
      " 1   id          1215 non-null   object \n",
      " 2   col         1215 non-null   object \n",
      " 3   surf        1242 non-null   object \n",
      " 4   morph       665 non-null    object \n",
      " 5   type        1211 non-null   object \n",
      " 6   size.x      1174 non-null   float64\n",
      " 7   size.y      1174 non-null   float64\n",
      " 8   size.z      1174 non-null   float64\n",
      " 9   weight      1242 non-null   float64\n",
      " 10  batch.id    1133 non-null   float64\n",
      " 11  batch.w     525 non-null    float64\n",
      " 12  pbatch.w    68 non-null     object \n",
      " 13  date        1133 non-null   object \n",
      " 14  spon        1242 non-null   int64  \n",
      " 15  moll        1242 non-null   int64  \n",
      " 16  unknown     1242 non-null   int64  \n",
      " 17  perc.cov    1242 non-null   int64  \n",
      " 18  notes       193 non-null    object \n",
      " 19  spir        1242 non-null   int64  \n",
      " 20  sepu        1242 non-null   int64  \n",
      " 21  barn        1242 non-null   int64  \n",
      " 22  bryo        1242 non-null   int64  \n",
      " 23  algae       1242 non-null   int64  \n",
      " 24  olre        1242 non-null   int64  \n",
      " 25  size.xy     1174 non-null   float64\n",
      "dtypes: float64(7), int64(11), object(8)\n",
      "memory usage: 252.4+ KB\n"
     ]
    }
   ],
   "source": [
    "df = pd.read_csv('../data/post_plas.csv')\n",
    "df.info()"
   ],
   "metadata": {
    "collapsed": false
   }
  },
  {
   "cell_type": "markdown",
   "source": [
    "The columns are:\n",
    "- spir: Spirobids\n",
    "- sepu: Sepulid"
   ],
   "metadata": {
    "collapsed": false
   }
  }
 ],
 "metadata": {
  "kernelspec": {
   "display_name": "Python 3",
   "language": "python",
   "name": "python3"
  },
  "language_info": {
   "codemirror_mode": {
    "name": "ipython",
    "version": 2
   },
   "file_extension": ".py",
   "mimetype": "text/x-python",
   "name": "python",
   "nbconvert_exporter": "python",
   "pygments_lexer": "ipython2",
   "version": "2.7.6"
  }
 },
 "nbformat": 4,
 "nbformat_minor": 0
}
